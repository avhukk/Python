{
 "cells": [
  {
   "cell_type": "code",
   "execution_count": 1,
   "metadata": {},
   "outputs": [],
   "source": [
    "# Shri GuruRaghavendraya namah"
   ]
  },
  {
   "cell_type": "code",
   "execution_count": 6,
   "metadata": {},
   "outputs": [
    {
     "name": "stdout",
     "output_type": "stream",
     "text": [
      "The second element of the list is 2\n",
      "The fourth element is 4\n"
     ]
    }
   ],
   "source": [
    "# Exception handling\n",
    "a = [1,2,3,4]\n",
    "\n",
    "try: \n",
    "    print('The second element of the list is %d' %(a[1]))\n",
    "\n",
    "    print('The fourth element is %d' %(a[3]))\n",
    "except: \n",
    "    print('An error occured')"
   ]
  },
  {
   "cell_type": "code",
   "execution_count": 7,
   "metadata": {},
   "outputs": [],
   "source": [
    "# Try and except statements are used to catch and handle exceptions in python. Statement\n",
    "# that can raise exceptions are kept inside try clause and statements that handle\n",
    "# the exception are written inside except clause"
   ]
  },
  {
   "cell_type": "code",
   "execution_count": 10,
   "metadata": {},
   "outputs": [
    {
     "name": "stdout",
     "output_type": "stream",
     "text": [
      "The second element in the list is 2\n"
     ]
    }
   ],
   "source": [
    "a = [1,2,3]\n",
    "try: \n",
    "    print('The second element in the list is %d' %(a[1]))\n",
    "except: \n",
    "    print('An error occured')"
   ]
  },
  {
   "cell_type": "code",
   "execution_count": 12,
   "metadata": {},
   "outputs": [
    {
     "name": "stdout",
     "output_type": "stream",
     "text": [
      "An error occured\n"
     ]
    }
   ],
   "source": [
    "# If the 7th element in the list is to be accessed (which is absent), the program\n",
    "# executes but the error statement is printed as desired\n",
    "a = [1,2,3]\n",
    "try: \n",
    "    print('The second element in the list is %d' %(a[6]))\n",
    "except: \n",
    "    print('An error occured')"
   ]
  },
  {
   "cell_type": "raw",
   "metadata": {},
   "source": [
    "A try statment can have more than one except clause, to specify handlers for \n",
    "different exceptions. However, only one handler will be executed. "
   ]
  },
  {
   "cell_type": "code",
   "execution_count": 16,
   "metadata": {},
   "outputs": [
    {
     "name": "stdout",
     "output_type": "stream",
     "text": [
      "NameError occured and handled\n"
     ]
    }
   ],
   "source": [
    "def fun(a): \n",
    "    if a < 4: \n",
    "        b = a/(a-3)\n",
    "    print('Value of b is', b)\n",
    "\n",
    "try: \n",
    "    #fun(3)\n",
    "    fun(5)\n",
    "except ZeroDivisionError: \n",
    "    print('ZeroDivisionError error occured and handled')\n",
    "except NameError: \n",
    "    print('NameError occured and handled')"
   ]
  },
  {
   "attachments": {},
   "cell_type": "raw",
   "metadata": {},
   "source": [
    "Try with else clause can also be used. The code enters the else clause only when\n",
    "try does not raise an exception"
   ]
  },
  {
   "cell_type": "code",
   "execution_count": 20,
   "metadata": {},
   "outputs": [],
   "source": [
    "def nfunc(a,b): \n",
    "    try: \n",
    "        c = ((a+b)/(a-b))\n",
    "    except ZeroDivisionError:\n",
    "        print('a/b resulted in 0')\n",
    "    else: \n",
    "        print('The value of c is %d' %c)"
   ]
  },
  {
   "cell_type": "code",
   "execution_count": 18,
   "metadata": {},
   "outputs": [
    {
     "name": "stdout",
     "output_type": "stream",
     "text": [
      "a/b resulted in 0\n"
     ]
    }
   ],
   "source": [
    "nfunc(3,3)"
   ]
  },
  {
   "cell_type": "code",
   "execution_count": 21,
   "metadata": {},
   "outputs": [
    {
     "name": "stdout",
     "output_type": "stream",
     "text": [
      "The value of c is 3\n"
     ]
    }
   ],
   "source": [
    "nfunc(10,5)"
   ]
  },
  {
   "cell_type": "raw",
   "metadata": {},
   "source": [
    "Finally keyword is always executed after the try and except blocks. The final block\n",
    "will always execute after normal termination of try block or after try block terminates due \n",
    "to some exception."
   ]
  },
  {
   "cell_type": "code",
   "execution_count": 1,
   "metadata": {},
   "outputs": [
    {
     "name": "stdout",
     "output_type": "stream",
     "text": [
      "Division by zero not allowed\n",
      "This block is always executed\n"
     ]
    }
   ],
   "source": [
    "try: \n",
    "    k = 5//0\n",
    "except ZeroDivisionError: \n",
    "    print('Division by zero not allowed')\n",
    "finally: \n",
    "    print('This block is always executed')"
   ]
  },
  {
   "cell_type": "raw",
   "metadata": {},
   "source": [
    "Raise statement allows the programmer to raise a specific exception to occur.\n",
    "The sole arguement in the raise indicates the exception to be raised."
   ]
  },
  {
   "cell_type": "code",
   "execution_count": 4,
   "metadata": {},
   "outputs": [
    {
     "name": "stdout",
     "output_type": "stream",
     "text": [
      "An exception occured\n"
     ]
    },
    {
     "ename": "ZeroDivisionError",
     "evalue": "division by zero",
     "output_type": "error",
     "traceback": [
      "\u001b[0;31m---------------------------------------------------------------------------\u001b[0m",
      "\u001b[0;31mZeroDivisionError\u001b[0m                         Traceback (most recent call last)",
      "\u001b[0;32m/tmp/ipykernel_30193/1769675070.py\u001b[0m in \u001b[0;36m<module>\u001b[0;34m\u001b[0m\n\u001b[1;32m      1\u001b[0m \u001b[0;32mtry\u001b[0m\u001b[0;34m:\u001b[0m\u001b[0;34m\u001b[0m\u001b[0;34m\u001b[0m\u001b[0m\n\u001b[0;32m----> 2\u001b[0;31m     \u001b[0;32mraise\u001b[0m \u001b[0mZeroDivisionError\u001b[0m \u001b[0;34m(\u001b[0m\u001b[0;36m5\u001b[0m\u001b[0;34m/\u001b[0m\u001b[0;36m0\u001b[0m\u001b[0;34m)\u001b[0m\u001b[0;34m\u001b[0m\u001b[0;34m\u001b[0m\u001b[0m\n\u001b[0m\u001b[1;32m      3\u001b[0m \u001b[0;34m\u001b[0m\u001b[0m\n\u001b[1;32m      4\u001b[0m \u001b[0;32mexcept\u001b[0m \u001b[0mZeroDivisionError\u001b[0m\u001b[0;34m:\u001b[0m\u001b[0;34m\u001b[0m\u001b[0;34m\u001b[0m\u001b[0m\n\u001b[1;32m      5\u001b[0m     \u001b[0mprint\u001b[0m\u001b[0;34m(\u001b[0m\u001b[0;34m'An exception occured'\u001b[0m\u001b[0;34m)\u001b[0m\u001b[0;34m\u001b[0m\u001b[0;34m\u001b[0m\u001b[0m\n",
      "\u001b[0;31mZeroDivisionError\u001b[0m: division by zero"
     ]
    }
   ],
   "source": [
    "try: \n",
    "    raise ZeroDivisionError (5/0)\n",
    "\n",
    "except ZeroDivisionError:\n",
    "    print('An exception occured')\n",
    "    raise"
   ]
  },
  {
   "cell_type": "raw",
   "metadata": {},
   "source": [
    "Sources/Bibliography: \n",
    "1. GeekforGeeks\n",
    "2. iNeuron course work\n",
    "3. Learn Python the hard way by Zed Shaw"
   ]
  },
  {
   "cell_type": "raw",
   "metadata": {},
   "source": []
  }
 ],
 "metadata": {
  "kernelspec": {
   "display_name": "base",
   "language": "python",
   "name": "python3"
  },
  "language_info": {
   "codemirror_mode": {
    "name": "ipython",
    "version": 3
   },
   "file_extension": ".py",
   "mimetype": "text/x-python",
   "name": "python",
   "nbconvert_exporter": "python",
   "pygments_lexer": "ipython3",
   "version": "3.9.13"
  },
  "orig_nbformat": 4,
  "vscode": {
   "interpreter": {
    "hash": "8812e36efe30eff14aca638cf6d8eb794fff6759655b43346baddd4fe340b183"
   }
  }
 },
 "nbformat": 4,
 "nbformat_minor": 2
}
